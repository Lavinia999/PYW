{
 "metadata": {
  "language_info": {
   "codemirror_mode": {
    "name": "ipython",
    "version": 3
   },
   "file_extension": ".py",
   "mimetype": "text/x-python",
   "name": "python",
   "nbconvert_exporter": "python",
   "pygments_lexer": "ipython3",
   "version": "3.8.5"
  },
  "orig_nbformat": 2,
  "kernelspec": {
   "name": "python385jvsc74a57bd07dadfb8f8e1dec0e12a2e5e646e17eb0ae60facf2b78ceecab64a98e9e2cd68b",
   "display_name": "Python 3.8.5 64-bit ('base': conda)"
  }
 },
 "nbformat": 4,
 "nbformat_minor": 2,
 "cells": [
  {
   "cell_type": "code",
   "execution_count": 1,
   "metadata": {},
   "outputs": [],
   "source": [
    "#Homework task 1"
   ]
  },
  {
   "cell_type": "code",
   "execution_count": 1,
   "metadata": {},
   "outputs": [],
   "source": [
    "#Să se introducă x - numărul lunei a anului, (exemplu: ianuarie - 1, februarie - 2, decembrie - 12),  \n",
    "# în baza lui x, să se printeze numărul de zile în această lună."
   ]
  },
  {
   "cell_type": "code",
   "execution_count": 41,
   "metadata": {},
   "outputs": [
    {
     "output_type": "stream",
     "name": "stdout",
     "text": [
      "Are 28 sau 29 de zile.\n"
     ]
    }
   ],
   "source": [
    "x=int(input(\"Introdu numarul lunei: \"))\n",
    "l=[4,6,9,11]\n",
    "if x in l:\n",
    "    print(\"Are 30 de zile.\")\n",
    "elif x not in l and x!=2:\n",
    "    print(\"Are 31 de zile.\")\n",
    "if x==2:\n",
    "    print(\"Are 28 sau 29 de zile.\")"
   ]
  }
 ]
}